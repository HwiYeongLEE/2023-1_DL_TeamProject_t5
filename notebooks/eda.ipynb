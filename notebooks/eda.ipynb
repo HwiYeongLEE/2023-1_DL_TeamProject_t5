{
 "cells": [
  {
   "cell_type": "code",
   "execution_count": 1,
   "metadata": {},
   "outputs": [],
   "source": [
    "import json \n",
    "import os\n",
    "import pandas as pd \n",
    "import numpy as np\n",
    "import matplotlib.pyplot as plt\n",
    "import seaborn as sns\n",
    "from pathlib import Path\n",
    "from PIL import Image"
   ]
  },
  {
   "cell_type": "code",
   "execution_count": 2,
   "metadata": {},
   "outputs": [],
   "source": [
    "data_dir = Path(\"../data/train\")\n",
    "\n",
    "images_path = data_dir / \"images\"\n",
    "train_json_files = list((data_dir / \"annotations\").glob(\"*.json\"))"
   ]
  },
  {
   "cell_type": "code",
   "execution_count": 17,
   "metadata": {},
   "outputs": [
    {
     "data": {
      "text/plain": [
       "'화장품'"
      ]
     },
     "execution_count": 17,
     "metadata": {},
     "output_type": "execute_result"
    }
   ],
   "source": [
    "temp = train_json_files[0]\n",
    "with open(temp) as f:\n",
    "    d = json.load(f)\n",
    "d['images'][0]['class']"
   ]
  },
  {
   "cell_type": "code",
   "execution_count": 27,
   "metadata": {},
   "outputs": [],
   "source": [
    "col_names = ['image_path', 'image_size', 'image_class', 'texts']\n",
    "annot_df = pd.DataFrame(columns=col_names)\n",
    "\n",
    "for i, file in enumerate(train_json_files):       \n",
    "    with open(file) as f:\n",
    "        d = json.load(f)\n",
    "    contents = [d['images'][0]['name'], (d['images'][0]['height'],d['images'][0]['width']), d['images'][0]['class'],\n",
    "                [(x['type'], x['text']) for x in d['annotations'][0]['polygons']]]\n",
    "    annot_df.loc[i] = contents"
   ]
  },
  {
   "cell_type": "code",
   "execution_count": null,
   "metadata": {},
   "outputs": [],
   "source": []
  }
 ],
 "metadata": {
  "kernelspec": {
   "display_name": "base",
   "language": "python",
   "name": "python3"
  },
  "language_info": {
   "codemirror_mode": {
    "name": "ipython",
    "version": 3
   },
   "file_extension": ".py",
   "mimetype": "text/x-python",
   "name": "python",
   "nbconvert_exporter": "python",
   "pygments_lexer": "ipython3",
   "version": "3.10.10"
  },
  "orig_nbformat": 4
 },
 "nbformat": 4,
 "nbformat_minor": 2
}
