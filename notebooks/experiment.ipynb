{
 "cells": [
  {
   "attachments": {},
   "cell_type": "markdown",
   "metadata": {},
   "source": [
    "**Packages Installation**"
   ]
  },
  {
   "cell_type": "code",
   "execution_count": 1,
   "metadata": {},
   "outputs": [],
   "source": [
    "# %cd /home/2023-1_DL_TeamProject_t5\n",
    "# %pip install -r requirements.txt"
   ]
  },
  {
   "attachments": {},
   "cell_type": "markdown",
   "metadata": {},
   "source": [
    "**Environment Variables Settings**"
   ]
  },
  {
   "cell_type": "code",
   "execution_count": 2,
   "metadata": {},
   "outputs": [
    {
     "name": "stdout",
     "output_type": "stream",
     "text": [
      "env: WANDB_PROJECT=Comsmetics&Medicines_CORD_DLt5\n",
      "env: WANDB_NOTEBOOK_NAME=./experiment.ipynb\n"
     ]
    }
   ],
   "source": [
    "%env WANDB_PROJECT=Comsmetics&Medicines_CORD_DLt5\n",
    "%env WANDB_NOTEBOOK_NAME=./experiment.ipynb"
   ]
  },
  {
   "attachments": {},
   "cell_type": "markdown",
   "metadata": {},
   "source": [
    "**Import**"
   ]
  },
  {
   "cell_type": "code",
   "execution_count": 3,
   "metadata": {},
   "outputs": [
    {
     "name": "stderr",
     "output_type": "stream",
     "text": [
      "/opt/conda/lib/python3.10/site-packages/tqdm/auto.py:21: TqdmWarning: IProgress not found. Please update jupyter and ipywidgets. See https://ipywidgets.readthedocs.io/en/stable/user_install.html\n",
      "  from .autonotebook import tqdm as notebook_tqdm\n"
     ]
    }
   ],
   "source": [
    "import random\n",
    "import pandas as pd\n",
    "import numpy as np\n",
    "import math\n",
    "import os\n",
    "from PIL import Image\n",
    "from pathlib import Path\n",
    "import re\n",
    "from nltk import edit_distance\n",
    "\n",
    "from util import LogPredictionsCallback\n",
    "\n",
    "import pytorch_lightning as pl\n",
    "# from pytorch_lightning.utilities import rank_zero_only\n",
    "\n",
    "import torch\n",
    "from torch.utils.data import Dataset, DataLoader\n",
    "\n",
    "from transformers import (\n",
    "    DonutProcessor,\n",
    "    VisionEncoderDecoderConfig,\n",
    "    VisionEncoderDecoderModel,\n",
    "    get_scheduler\n",
    ")\n",
    "\n",
    "import wandb\n",
    "\n",
    "from tqdm.auto import tqdm\n",
    "\n",
    "import warnings\n",
    "warnings.filterwarnings(action='ignore') "
   ]
  },
  {
   "cell_type": "code",
   "execution_count": 4,
   "metadata": {},
   "outputs": [
    {
     "data": {
      "text/plain": [
       "'cuda'"
      ]
     },
     "execution_count": 4,
     "metadata": {},
     "output_type": "execute_result"
    }
   ],
   "source": [
    "device = torch.device('cuda') if torch.cuda.is_available() else torch.device('cpu')\n",
    "device.type"
   ]
  },
  {
   "attachments": {},
   "cell_type": "markdown",
   "metadata": {},
   "source": [
    "**Hyperparameter Settings**"
   ]
  },
  {
   "cell_type": "code",
   "execution_count": 5,
   "metadata": {},
   "outputs": [],
   "source": [
    "CFG = {\n",
    "    'WORKING_DIR': \"/home/2023-1_DL_TeamProject_t5\",\n",
    "    'SEED':17,\n",
    "    'NUM_WORKERS':4,\n",
    "    'IMG_HEIGHT':800,\n",
    "    'IMG_WIDTH':600,\n",
    "    'MAX_LEN':1024,\n",
    "    'BATCH_SIZE':1,\n",
    "    'SAMPLING_RATE':0.1,\n",
    "    'VAL_SPLIT': 0.1,\n",
    "    'PIN_MEMORY': True,\n",
    "    'SWEEP_NUM': 6\n",
    "}"
   ]
  },
  {
   "attachments": {},
   "cell_type": "markdown",
   "metadata": {},
   "source": [
    "**Set Working Direcotry**"
   ]
  },
  {
   "cell_type": "code",
   "execution_count": 6,
   "metadata": {},
   "outputs": [
    {
     "name": "stdout",
     "output_type": "stream",
     "text": [
      "/home/2023-1_DL_TeamProject_t5\n"
     ]
    }
   ],
   "source": [
    "os.chdir(CFG['WORKING_DIR'])\n",
    "print(os.getcwd())"
   ]
  },
  {
   "attachments": {},
   "cell_type": "markdown",
   "metadata": {},
   "source": [
    "**Fix Seeds**"
   ]
  },
  {
   "cell_type": "code",
   "execution_count": 7,
   "metadata": {},
   "outputs": [],
   "source": [
    "def seed_everything(seed):\n",
    "    random.seed(seed)\n",
    "    os.environ['PYTHONHASHSEED'] = str(seed)\n",
    "    np.random.seed(seed)\n",
    "    torch.manual_seed(seed)\n",
    "    torch.cuda.manual_seed(seed)\n",
    "    torch.backends.cudnn.deterministic = True\n",
    "    torch.backends.cudnn.benchmark = True\n",
    "\n",
    "seed_everything(CFG['SEED'])"
   ]
  },
  {
   "attachments": {},
   "cell_type": "markdown",
   "metadata": {},
   "source": [
    "**Dataset Building & Data Preprocessing**"
   ]
  },
  {
   "cell_type": "code",
   "execution_count": 8,
   "metadata": {},
   "outputs": [],
   "source": [
    "type_dict = {0:\"uni\", 1:\"nm\", 2:\"ing\", 3:\"exp\", 4:\"how\", 5:\"des\", 9:\"etc\"}\n",
    "\n",
    "class DonutDataset(Dataset):\n",
    "\n",
    "    def __init__(\n",
    "        self,\n",
    "        dataframe: pd.DataFrame,\n",
    "        max_length: int,\n",
    "        processor: DonutProcessor,\n",
    "        split: str = \"train\",\n",
    "        ignore_id: int = -100,\n",
    "    ):\n",
    "        super().__init__()\n",
    "\n",
    "        self.max_length = max_length\n",
    "        self.split = split\n",
    "        self.ignore_id = ignore_id\n",
    "        self.dataframe = dataframe.reset_index(drop=True)\n",
    "        self.dataframe_length = len(self.dataframe)\n",
    "        self.processor = processor\n",
    "        self.gt_container = []\n",
    "        \n",
    "        for idx, sample in self.dataframe.iterrows():\n",
    "            ground_truth = self.get_gt_strings(eval(sample['texts']))\n",
    "            self.gt_container.append(ground_truth)\n",
    "\n",
    "    def get_gt_strings(self, ct):\n",
    "        \n",
    "        gt_string = \"\"\n",
    "        flag = 1\n",
    "        tp = -1\n",
    "        for i, item in enumerate(ct):\n",
    "            if flag:\n",
    "                gt_string = gt_string + f'<{type_dict[item[0]]}>'\n",
    "                tp = item[0]\n",
    "                flag = 0\n",
    "                gt_string = gt_string + f'{item[1]}'\n",
    "            \n",
    "            elif not flag:\n",
    "                gt_string = gt_string + f' {item[1]}'\n",
    "            \n",
    "            if i == len(ct)-1 or ct[i+1][0] != tp:\n",
    "                gt_string = gt_string + f'</{type_dict[item[0]]}>'\n",
    "                flag = 1\n",
    "        \n",
    "        return gt_string\n",
    "    \n",
    "    def __len__(self):\n",
    "        \n",
    "        return self.dataframe_length\n",
    "\n",
    "    def __getitem__(self, idx: int):\n",
    "\n",
    "        sample = self.dataframe.loc[idx]\n",
    "        image = Image.open(sample['image_path'])\n",
    "       \n",
    "        pixel_values = self.processor(image, random_padding=self.split == \"train\", return_tensors=\"pt\").pixel_values.squeeze()\n",
    "\n",
    "        target_sequence = self.gt_container[idx] \n",
    "        input_ids = self.processor.tokenizer(\n",
    "            target_sequence,\n",
    "            add_special_tokens=False,\n",
    "            max_length=self.max_length,\n",
    "            padding=\"max_length\",\n",
    "            truncation=True,\n",
    "            return_tensors=\"pt\",\n",
    "        )[\"input_ids\"].squeeze(0)\n",
    "\n",
    "        labels = input_ids.clone()\n",
    "        labels[labels == self.processor.tokenizer.pad_token_id] = self.ignore_id  \n",
    "\n",
    "        return pixel_values, labels, target_sequence"
   ]
  },
  {
   "cell_type": "code",
   "execution_count": 9,
   "metadata": {},
   "outputs": [
    {
     "name": "stderr",
     "output_type": "stream",
     "text": [
      "Could not find image processor class in the image processor config or the model config. Loading based on pattern matching with the model's feature extractor configuration.\n"
     ]
    }
   ],
   "source": [
    "processor = DonutProcessor.from_pretrained(\"naver-clova-ix/donut-base\")\n",
    "processor.image_processor.size = {\"height\": CFG['IMG_HEIGHT'],\"width\": CFG['IMG_WIDTH']}\n",
    "added_tokens = [fr'<{x}>' for x in type_dict.values()] + [fr'</{x}>' for x in type_dict.values()]\n",
    "processor.tokenizer.add_tokens(added_tokens)\n",
    "\n",
    "donut_config = VisionEncoderDecoderConfig.from_pretrained(\"naver-clova-ix/donut-base\")\n",
    "donut_config.encoder.image_size = [CFG['IMG_HEIGHT'], CFG['IMG_WIDTH']]\n",
    "donut_config.decoder.max_length = CFG['MAX_LEN']"
   ]
  },
  {
   "cell_type": "code",
   "execution_count": 10,
   "metadata": {},
   "outputs": [],
   "source": [
    "def model_init():    \n",
    "    model = VisionEncoderDecoderModel.from_pretrained(\"naver-clova-ix/donut-base\", config=donut_config, ignore_mismatched_sizes=True)\n",
    "    model.decoder.resize_token_embeddings(len(processor.tokenizer))\n",
    "    model.config.pad_token_id = processor.tokenizer.pad_token_id\n",
    "    model.config.decoder_start_token_id = processor.tokenizer.convert_tokens_to_ids(['<s>'])[0]\n",
    "    return model\n",
    "\n",
    "model = model_init()"
   ]
  },
  {
   "cell_type": "code",
   "execution_count": 11,
   "metadata": {},
   "outputs": [
    {
     "name": "stdout",
     "output_type": "stream",
     "text": [
      "Pad token ID: <pad>\n",
      "Decoder start token ID: <s>\n"
     ]
    }
   ],
   "source": [
    "print(\"Pad token ID:\", processor.decode([model.config.pad_token_id]))\n",
    "print(\"Decoder start token ID:\", processor.decode([model.config.decoder_start_token_id]))"
   ]
  },
  {
   "cell_type": "code",
   "execution_count": 12,
   "metadata": {},
   "outputs": [],
   "source": [
    "from sklearn.model_selection import train_test_split\n",
    "\n",
    "train_val_df = pd.read_csv(\"./dataframes/train_annot_df.csv\")\n",
    "# test_df = pd.read_csv(\"./dataframes/test_annot_df.csv\")\n",
    "\n",
    "train_df, val_df = train_test_split(train_val_df, test_size=CFG['VAL_SPLIT'], random_state=CFG['SEED'])\n",
    "\n",
    "train_df = train_df.sample(frac=CFG['SAMPLING_RATE'], random_state=CFG['SEED'], ignore_index=True)\n",
    "val_df = val_df.sample(frac=CFG['SAMPLING_RATE'], random_state=CFG['SEED'], ignore_index=True)\n",
    "\n",
    "train_dataset = DonutDataset(train_df, max_length=CFG['MAX_LEN'], processor=processor, split=\"train\")\n",
    "val_dataset = DonutDataset(val_df, max_length=CFG['MAX_LEN'], processor=processor, split=\"validation\")\n",
    "# test_dataset = DonutDataset(test_df, max_length=CFG['MAX_LEN'], processor=processor, split=\"test\")"
   ]
  },
  {
   "attachments": {},
   "cell_type": "markdown",
   "metadata": {},
   "source": [
    "**Dataloader Building**"
   ]
  },
  {
   "cell_type": "code",
   "execution_count": 13,
   "metadata": {},
   "outputs": [],
   "source": [
    "train_dataloader = DataLoader(train_dataset, batch_size=CFG['BATCH_SIZE'], shuffle=True, num_workers=CFG['NUM_WORKERS'], pin_memory=CFG['PIN_MEMORY'])\n",
    "val_dataloader = DataLoader(val_dataset, batch_size=CFG['BATCH_SIZE'], shuffle=False, num_workers=CFG['NUM_WORKERS'], pin_memory=CFG['PIN_MEMORY'])\n",
    "# test_dataloader = DataLoader(test_dataset, batch_size=CFG['BATCH_SIZE'], shuffle=False, num_workers=CFG['NUM_WORKERS'], pin_memory=CFG['PIN_MEMORY'])"
   ]
  },
  {
   "cell_type": "code",
   "execution_count": 14,
   "metadata": {},
   "outputs": [
    {
     "name": "stdout",
     "output_type": "stream",
     "text": [
      "torch.Size([1, 3, 800, 600])\n"
     ]
    }
   ],
   "source": [
    "#Batch Verifying\n",
    "batch = next(iter(train_dataloader))\n",
    "pixel_values, labels, target_sequences = batch\n",
    "print(pixel_values.shape)"
   ]
  },
  {
   "cell_type": "code",
   "execution_count": 15,
   "metadata": {},
   "outputs": [
    {
     "name": "stdout",
     "output_type": "stream",
     "text": [
      "<des>\n",
      "Hid\n",
      "den\n",
      "Tag\n",
      "App\n",
      "설치\n",
      "후\n",
      "정\n",
      "품\n",
      "인\n",
      "증\n",
      "확인\n",
      "Check\n",
      "the\n",
      "aut\n",
      "henti\n",
      "city\n",
      "after\n",
      "install\n",
      "ing\n",
      "Hid\n",
      "den\n",
      "Tag\n",
      "App\n",
      "</des>\n",
      "<nm>\n",
      "\n",
      "<unk>\n",
      "터\n",
      "디\n"
     ]
    }
   ],
   "source": [
    "for id in labels[0].tolist()[:30]:\n",
    "  if id != -100:\n",
    "    print(processor.decode([id]))\n",
    "  else:\n",
    "    print(id)"
   ]
  },
  {
   "cell_type": "code",
   "execution_count": 16,
   "metadata": {},
   "outputs": [
    {
     "data": {
      "text/plain": [
       "\"<des>Hidden Tag App 설치 후 정품인증 확인 Check the authenticity after installing Hidden Tag App</des><nm>닥터디퍼런트 시카</nm><des>피부자극 테스트 완료 민감하고 거칠어진 피부를 케어하고 피부 진정에 도움을 주는 저자극 시카 메탈 카밍 패드 * 마데카소사이드 & 메탈 (Cu, Zn) 함유 * 피부 수분 공급 및 카밍 효과 부여 * 빈틈없는 밀착감을 선사하는 고급 순면거즈 패드로 빠른 진정 효과 부여</des><how>사용방법 세안 후, 거즈면으로 얼굴을 전체적으로 가볍게 닦아내며 피부결을 정돈해 준 뒤, 순면을 이용하여 진정이 필요한 곳을 진정시켜줍니다. 사용 시의 주의사항 1. 화장품 사용 시 또는 사용 후 직사광선에 의하여 사용부위가 붉은 반점, 부어오름 또는 가려움증 등의 이상 증상이나 부작용이 있는 경우 전문의 등과 상담할 것. 2. 상처가 있는 부위 등에는 사용을 자제할 것. 3. 보관 및 취급 시의 주의사항 가) 어린이의 손이 것. 사용할 피하여 주위를 눈 4. 것. 보관할 피해서 직사광선을 나) 것. 보관할 곳에 않는 닿지</how><des>본 제품에 이상이 있을 경우 공정거래위원회 고시 '소비자분쟁해결기준'에 의거 보상해 드립니다. 소비자상담실 : 080-766-5252 제조번호 및 사용기한 별도표기 화장품 (주)다른코스메틱스 서울특별시 강남구 학동로335 11, 12층 (논현동, 다른타워) 화장품 제조업자 (주)제닉 충남 논산시 성동면 산업단지로5길 5 www.drdifferent.com MADE IN KOREA</des>\""
      ]
     },
     "execution_count": 16,
     "metadata": {},
     "output_type": "execute_result"
    }
   ],
   "source": [
    "target_sequences[0]"
   ]
  },
  {
   "attachments": {},
   "cell_type": "markdown",
   "metadata": {},
   "source": [
    "**Pytorch Lightning Module Define**"
   ]
  },
  {
   "cell_type": "code",
   "execution_count": 17,
   "metadata": {},
   "outputs": [],
   "source": [
    "class DonutModelPLModule(pl.LightningModule):\n",
    "    def __init__(self, config, processor, model):\n",
    "        super().__init__()\n",
    "        self.config = config\n",
    "        self.processor = processor\n",
    "        self.model = model\n",
    "        self.save_hyperparameters()\n",
    "\n",
    "    def training_step(self, batch, batch_idx):\n",
    "        pixel_values, labels, _ = batch\n",
    "        \n",
    "        outputs = self.model(pixel_values, labels=labels)\n",
    "        loss = outputs.loss\n",
    "        self.log(\"train_loss\", loss)\n",
    "        return loss\n",
    "\n",
    "    def validation_step(self, batch, batch_idx, dataset_idx=0):\n",
    "        pixel_values, labels, answers = batch\n",
    "        batch_size = pixel_values.shape[0]\n",
    "\n",
    "        val_loss = self.model(pixel_values, labels=labels).loss\n",
    "\n",
    "        decoder_input_ids = torch.full((batch_size, 1), self.model.config.decoder_start_token_id, device=self.device)\n",
    "        \n",
    "        outputs = self.model.generate(pixel_values,\n",
    "                                   decoder_input_ids=decoder_input_ids,\n",
    "                                   max_length=CFG['MAX_LEN'],\n",
    "                                   early_stopping=True,\n",
    "                                   pad_token_id=self.processor.tokenizer.pad_token_id,\n",
    "                                   eos_token_id=self.processor.tokenizer.eos_token_id,\n",
    "                                   use_cache=True,\n",
    "                                   num_beams=1,\n",
    "                                   bad_words_ids=[[self.processor.tokenizer.unk_token_id]],\n",
    "                                   return_dict_in_generate=True,)\n",
    "    \n",
    "        predictions = []\n",
    "        for seq in self.processor.tokenizer.batch_decode(outputs.sequences):\n",
    "            seq = seq.replace(self.processor.tokenizer.eos_token, \"\").replace(self.processor.tokenizer.pad_token, \"\")\n",
    "            seq = re.sub(r\"<.*?>\", \"\", seq, count=1).strip()\n",
    "            predictions.append(seq)\n",
    "\n",
    "        scores = []\n",
    "        for pred, answer in zip(predictions, answers):\n",
    "            # pred = re.sub(r\"(?:(?<=>) | (?=\", \"\", answer, count=1)\n",
    "            # answer = answer.replace(self.processor.tokenizer.eos_token, \"\")\n",
    "            scores.append(edit_distance(pred, answer) / max(len(pred), len(answer)))\n",
    "\n",
    "            if self.config.get(\"verbose\", False) and len(scores) == 1:\n",
    "                print(f\"Prediction: {pred}\")\n",
    "                print(f\"    Answer: {answer}\")\n",
    "                print(f\" Normed ED: {scores[0]}\")\n",
    "        \n",
    "        self.log(\"val_loss\", val_loss)\n",
    "        self.log(\"val_edit_distance\", np.mean(scores))\n",
    "        \n",
    "        return pred \n",
    "\n",
    "    def configure_optimizers(self):\n",
    "\n",
    "        num_total_steps = len(train_dataloader)*self.config.get('max_epochs')\n",
    "\n",
    "        optimizer = torch.optim.AdamW(self.parameters(), lr=self.config.get(\"lr\"), weight_decay=self.config.get(\"weight_decay\"))\n",
    "        scheduler = get_scheduler(\n",
    "                        self.config.get(\"sch_type\"),\n",
    "                        optimizer=optimizer,\n",
    "                        num_warmup_steps=math.ceil(num_total_steps*self.config.get(\"warmup_ratio\")),\n",
    "                        num_training_steps=num_total_steps,\n",
    "                    )\n",
    "        sch_config = {\n",
    "            \"scheduler\": scheduler,\n",
    "            \"interval\": \"step\",\n",
    "            \"name\": self.config.get(\"sch_type\") + \"_scheduler\",\n",
    "\t    }\n",
    "    \n",
    "        return [optimizer], [sch_config]"
   ]
  },
  {
   "attachments": {},
   "cell_type": "markdown",
   "metadata": {},
   "source": [
    "**Define and Run Sweep**"
   ]
  },
  {
   "cell_type": "code",
   "execution_count": 18,
   "metadata": {},
   "outputs": [],
   "source": [
    "from pytorch_lightning.loggers import WandbLogger\n",
    "from pytorch_lightning.callbacks import EarlyStopping, LearningRateMonitor, ModelCheckpoint\n",
    "import gc\n",
    "\n",
    "torch.set_float32_matmul_precision(\"medium\")\n",
    "\n",
    "def train(config=None):\n",
    "    with wandb.init(config=config):\n",
    "        config = wandb.config\n",
    "        wandb_logger = WandbLogger(log_model = \"all\")\n",
    "\n",
    "        training_args = {\n",
    "            \"max_epochs\":1,\n",
    "            \"val_check_interval\": 0.25,\n",
    "            \"check_val_every_n_epoch\": 1,\n",
    "            \"log_every_n_steps\": 50,\n",
    "            'grad_logging_step': 100,\n",
    "            \"gradient_clip_val\": 1.0,\n",
    "            \"lr\": config.learning_rate,\n",
    "            \"weight_decay\": config.weight_decay,\n",
    "            \"accumulate_grad_batches\": 4,\n",
    "            \"num_nodes\": 1,\n",
    "            \"warmup_ratio\": config.warmup_ratio,\n",
    "            \"es_patience\": 1,\n",
    "            \"sch_type\": config.lr_scheduler_type,\n",
    "            \"verbose\": False,\n",
    "            }\n",
    "\n",
    "        model_module = DonutModelPLModule(training_args, processor, model_init())\n",
    "        \n",
    "        wandb_logger.watch(model_module, log='all', log_freq=training_args.get('grad_logging_step'), log_graph=False)\n",
    "        checkpoint_callback = ModelCheckpoint(monitor=\"val_edit_distance\", mode=\"min\", auto_insert_metric_name=True)\n",
    "        early_stop_callback = EarlyStopping(monitor=\"val_loss\", patience=training_args.get('es_patience'), verbose=False, mode=\"min\")\n",
    "        lr_monitor = LearningRateMonitor(logging_interval='step')\n",
    "        log_predictions_callback = LogPredictionsCallback()\n",
    "\n",
    "        trainer = pl.Trainer(\n",
    "            accelerator=\"gpu\",\n",
    "            devices=1,\n",
    "            max_epochs=training_args.get(\"max_epochs\"),\n",
    "            val_check_interval=training_args.get(\"val_check_interval\"),\n",
    "            check_val_every_n_epoch=training_args.get(\"check_val_every_n_epoch\"),\n",
    "            gradient_clip_val=training_args.get(\"gradient_clip_val\"),\n",
    "            precision=16,\n",
    "            accumulate_grad_batches=training_args.get(\"accumulate_grad_batches\"),\n",
    "            num_sanity_val_steps=0,\n",
    "            logger=wandb_logger,\n",
    "            log_every_n_steps=training_args.get(\"log_every_n_steps\"),\n",
    "            callbacks=[early_stop_callback, lr_monitor, checkpoint_callback, log_predictions_callback],\n",
    "        )\n",
    "\n",
    "        trainer.fit(model_module, train_dataloader, val_dataloader)\n",
    "\n",
    "        del model_module\n",
    "        del wandb_logger\n",
    "        del checkpoint_callback\n",
    "        del early_stop_callback\n",
    "        del log_predictions_callback\n",
    "        del lr_monitor\n",
    "        del trainer\n",
    "            \n",
    "        gc.collect()\n",
    "        torch.cuda.empty_cache()"
   ]
  },
  {
   "cell_type": "code",
   "execution_count": 19,
   "metadata": {},
   "outputs": [],
   "source": [
    "sweep_config = {\n",
    "    'method': 'random',\n",
    "    'metric' : {\n",
    "        'name': 'val_edit_distance',\n",
    "        'goal': 'minimize',   \n",
    "        },\n",
    "    'parameters' : {\n",
    "        'learning_rate': {\n",
    "            'distribution': 'log_uniform_values',\n",
    "            'min': 1e-5,\n",
    "            'max': 1e-4,\n",
    "        },\n",
    "        'weight_decay': {\n",
    "            'distribution': 'q_uniform',\n",
    "            'min': 0,\n",
    "            'max': 1e-2,\n",
    "            'q': 0.001,\n",
    "        },\n",
    "        'warmup_ratio':{\n",
    "            'values': [0.1, 0.2]\n",
    "        },\n",
    "        'lr_scheduler_type':{\n",
    "            'values': ['inverse_sqrt', 'cosine']\n",
    "        },\n",
    "    },\n",
    "}"
   ]
  },
  {
   "cell_type": "code",
   "execution_count": 20,
   "metadata": {},
   "outputs": [
    {
     "name": "stderr",
     "output_type": "stream",
     "text": [
      "\u001b[34m\u001b[1mwandb\u001b[0m: \u001b[33mWARNING\u001b[0m WANDB_NOTEBOOK_NAME should be a path to a notebook file, couldn't find ./experiment.ipynb.\n"
     ]
    },
    {
     "name": "stdout",
     "output_type": "stream",
     "text": [
      "Create sweep with ID: 7v923b17\n",
      "Sweep URL: https://wandb.ai/2gnldud/Comsmetics%26Medicines_CORD_DLt5/sweeps/7v923b17\n"
     ]
    },
    {
     "name": "stderr",
     "output_type": "stream",
     "text": [
      "\u001b[34m\u001b[1mwandb\u001b[0m: Agent Starting Run: 3r3fa1b5 with config:\n",
      "\u001b[34m\u001b[1mwandb\u001b[0m: \tlearning_rate: 8.309956023834661e-05\n",
      "\u001b[34m\u001b[1mwandb\u001b[0m: \tlr_scheduler_type: inverse_sqrt\n",
      "\u001b[34m\u001b[1mwandb\u001b[0m: \twarmup_ratio: 0.2\n",
      "\u001b[34m\u001b[1mwandb\u001b[0m: \tweight_decay: 0.007\n",
      "\u001b[34m\u001b[1mwandb\u001b[0m: \u001b[33mWARNING\u001b[0m WANDB_NOTEBOOK_NAME should be a path to a notebook file, couldn't find ./experiment.ipynb.\n",
      "\u001b[34m\u001b[1mwandb\u001b[0m: Currently logged in as: \u001b[33m2gnldud\u001b[0m. Use \u001b[1m`wandb login --relogin`\u001b[0m to force relogin\n"
     ]
    },
    {
     "data": {
      "text/html": [
       "wandb version 0.15.3 is available!  To upgrade, please run:\n",
       " $ pip install wandb --upgrade"
      ],
      "text/plain": [
       "<IPython.core.display.HTML object>"
      ]
     },
     "metadata": {},
     "output_type": "display_data"
    },
    {
     "data": {
      "text/html": [
       "Tracking run with wandb version 0.15.2"
      ],
      "text/plain": [
       "<IPython.core.display.HTML object>"
      ]
     },
     "metadata": {},
     "output_type": "display_data"
    },
    {
     "data": {
      "text/html": [
       "Run data is saved locally in <code>/home/2023-1_DL_TeamProject_t5/wandb/run-20230530_143705-3r3fa1b5</code>"
      ],
      "text/plain": [
       "<IPython.core.display.HTML object>"
      ]
     },
     "metadata": {},
     "output_type": "display_data"
    },
    {
     "data": {
      "text/html": [
       "Syncing run <strong><a href='https://wandb.ai/2gnldud/Comsmetics%26Medicines_CORD_DLt5/runs/3r3fa1b5' target=\"_blank\">upbeat-sweep-1</a></strong> to <a href='https://wandb.ai/2gnldud/Comsmetics%26Medicines_CORD_DLt5' target=\"_blank\">Weights & Biases</a> (<a href='https://wandb.me/run' target=\"_blank\">docs</a>)<br/>Sweep page: <a href='https://wandb.ai/2gnldud/Comsmetics%26Medicines_CORD_DLt5/sweeps/7v923b17' target=\"_blank\">https://wandb.ai/2gnldud/Comsmetics%26Medicines_CORD_DLt5/sweeps/7v923b17</a>"
      ],
      "text/plain": [
       "<IPython.core.display.HTML object>"
      ]
     },
     "metadata": {},
     "output_type": "display_data"
    },
    {
     "data": {
      "text/html": [
       " View project at <a href='https://wandb.ai/2gnldud/Comsmetics%26Medicines_CORD_DLt5' target=\"_blank\">https://wandb.ai/2gnldud/Comsmetics%26Medicines_CORD_DLt5</a>"
      ],
      "text/plain": [
       "<IPython.core.display.HTML object>"
      ]
     },
     "metadata": {},
     "output_type": "display_data"
    },
    {
     "data": {
      "text/html": [
       " View sweep at <a href='https://wandb.ai/2gnldud/Comsmetics%26Medicines_CORD_DLt5/sweeps/7v923b17' target=\"_blank\">https://wandb.ai/2gnldud/Comsmetics%26Medicines_CORD_DLt5/sweeps/7v923b17</a>"
      ],
      "text/plain": [
       "<IPython.core.display.HTML object>"
      ]
     },
     "metadata": {},
     "output_type": "display_data"
    },
    {
     "data": {
      "text/html": [
       " View run at <a href='https://wandb.ai/2gnldud/Comsmetics%26Medicines_CORD_DLt5/runs/3r3fa1b5' target=\"_blank\">https://wandb.ai/2gnldud/Comsmetics%26Medicines_CORD_DLt5/runs/3r3fa1b5</a>"
      ],
      "text/plain": [
       "<IPython.core.display.HTML object>"
      ]
     },
     "metadata": {},
     "output_type": "display_data"
    },
    {
     "name": "stderr",
     "output_type": "stream",
     "text": [
      "Some weights of VisionEncoderDecoderModel were not initialized from the model checkpoint at naver-clova-ix/donut-base and are newly initialized because the shapes did not match:\n",
      "- decoder.model.decoder.embed_tokens.weight: found shape torch.Size([57525, 1024]) in the checkpoint and torch.Size([57539, 1024]) in the model instantiated\n",
      "- decoder.lm_head.weight: found shape torch.Size([57525, 1024]) in the checkpoint and torch.Size([57539, 1024]) in the model instantiated\n",
      "You should probably TRAIN this model on a down-stream task to be able to use it for predictions and inference.\n",
      "Using 16bit Automatic Mixed Precision (AMP)\n",
      "GPU available: True (cuda), used: True\n",
      "TPU available: False, using: 0 TPU cores\n",
      "IPU available: False, using: 0 IPUs\n",
      "HPU available: False, using: 0 HPUs\n",
      "LOCAL_RANK: 0 - CUDA_VISIBLE_DEVICES: [0]\n",
      "\n",
      "  | Name  | Type                      | Params\n",
      "----------------------------------------------------\n",
      "0 | model | VisionEncoderDecoderModel | 201 M \n",
      "----------------------------------------------------\n",
      "201 M     Trainable params\n",
      "0         Non-trainable params\n",
      "201 M     Total params\n",
      "807.465   Total estimated model params size (MB)\n"
     ]
    },
    {
     "name": "stdout",
     "output_type": "stream",
     "text": [
      "Epoch 0:   2%|▏         | 1606/75754 [05:54<4:32:54,  4.53it/s, v_num=a1b5]"
     ]
    },
    {
     "name": "stderr",
     "output_type": "stream",
     "text": [
      "\u001b[34m\u001b[1mwandb\u001b[0m: Ctrl + C detected. Stopping sweep.\n"
     ]
    },
    {
     "name": "stdout",
     "output_type": "stream",
     "text": [
      "Epoch 0:   2%|▏         | 1636/75754 [06:01<4:32:41,  4.53it/s, v_num=a1b5]"
     ]
    }
   ],
   "source": [
    "sweep_id = wandb.sweep(sweep_config, project=os.environ['WANDB_PROJECT'])\n",
    "wandb.agent(sweep_id, train, count=CFG['SWEEP_NUM'])"
   ]
  }
 ],
 "metadata": {
  "kernelspec": {
   "display_name": "base",
   "language": "python",
   "name": "python3"
  },
  "language_info": {
   "codemirror_mode": {
    "name": "ipython",
    "version": 3
   },
   "file_extension": ".py",
   "mimetype": "text/x-python",
   "name": "python",
   "nbconvert_exporter": "python",
   "pygments_lexer": "ipython3",
   "version": "3.10.10"
  },
  "orig_nbformat": 4
 },
 "nbformat": 4,
 "nbformat_minor": 2
}
